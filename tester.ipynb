{
 "cells": [
  {
   "cell_type": "code",
   "execution_count": null,
   "metadata": {},
   "outputs": [],
   "source": [
    "from objects import *\n",
    "import argparse\n",
    "\n",
    "def main(iter, trav, train_v=2000, batch_v=1000, train_s=2000, batch_s=1000):\n",
    "    tf.set_random_seed(1)\n",
    "    np.random.seed(1)\n",
    "    G = game()\n",
    "    B_v = (buffer(), buffer())\n",
    "    B_s = buffer()\n",
    "    W = [[],[],[]]\n",
    "    M_r = (model('p0', True), model('p1', True))\n",
    "    M_s = model('state')\n",
    "    for t in range(iter):\n",
    "        p = t%2\n",
    "        p_not = (p+1)%2\n",
    "        B_vp = B_v[p]\n",
    "        B_s.set()\n",
    "        B_vp.set()\n",
    "        for n in range(trav):\n",
    "            collect_samples(G, \"A\", p, p_not, M_r, B_vp, B_s)\n",
    "        W[p].extend([(1+t)/2]*B_vp.count)\n",
    "        W[2].extend([(1+t)/2]*B_s.count)\n",
    "        M_r[p].train(B_vp, W[p], train_v, batch_v)\n",
    "    M_s.train(B_s, W[2], train_s, batch_s, True)\n",
    "\n",
    "def collect_samples(game, node, p, p_not, M_r, B_vp, B_s):\n",
    "    if game.is_terminal(node):\n",
    "        return game.util(node, p)\n",
    "    elif game.P(node) == p:\n",
    "        I = game.I(node, p)\n",
    "        A = game.A(node)\n",
    "        sigma = calculate_strategy(I, A, M_r[p])\n",
    "        v_a = np.zeros(3)\n",
    "        for a in A:\n",
    "            v_a[a] = collect_samples(game, game.take(node, a), p, p_not, M_r, B_vp, B_s)\n",
    "        v_s = np.dot(v_a, sigma)\n",
    "        d = v_a - v_s\n",
    "        B_vp.add(I, d)\n",
    "        return v_s\n",
    "    elif game.P(node) == p_not:\n",
    "        I = game.I(node, p_not)\n",
    "        A = game.A(node)\n",
    "        sigma = calculate_strategy(I, A, M_r[p_not])\n",
    "        B_s.add(I, sigma)\n",
    "        try:\n",
    "            a = np.random.choice(3, p=sigma)\n",
    "        except ValueError:\n",
    "            a = np.random.choice(3, p=sigma/sigma.sum())\n",
    "        return collect_samples(game, game.take(node, a), p, p_not, M_r, B_vp, B_s)\n",
    "    else:\n",
    "        return collect_samples(game.deal(), \"B\", p, p_not, M_r, B_vp, B_s)\n",
    "\n",
    "def calculate_strategy(I, A, model):\n",
    "    sigma = np.zeros(3)\n",
    "    d = model.predict(I)[0, A]\n",
    "    d_plus = np.clip(d, 0, None)\n",
    "    if d_plus.sum() > 0:\n",
    "        sigma[A] = d_plus/d_plus.sum()\n",
    "        return sigma\n",
    "    else:\n",
    "        sigma[A[np.argmax(d)]] = 1\n",
    "        return sigma\n",
    "\n",
    "if __name__ == '__main__':\n",
    "    parser = argparse.ArgumentParser()\n",
    "    parser.add_argument(\"iter\", help=\"number of iterations\", type=int, default=10000)\n",
    "    parser.add_argument(\"trav\", help=\"number of travesals\", type=int, default=100)\n",
    "    args = parser.parse_args()\n",
    "    main(int(args.iter), int(args.trav))\n"
   ]
  },
  {
   "cell_type": "code",
   "execution_count": null,
   "metadata": {},
   "outputs": [],
   "source": [
    "def main_test(iter, trav, train_v=2000, batch_v=1000, train_s=2000, batch_s=1000):\n",
    "    tf.set_random_seed(1)\n",
    "    np.random.seed(1)\n",
    "    G = game()\n",
    "    B_v = (buffer(), buffer())\n",
    "    B_s = buffer()\n",
    "    W = [[],[],[]]\n",
    "    M_r = (model('p0', True), model('p1', True))\n",
    "    M_s = model('state')\n",
    "    for t in range(iter):\n",
    "        p = t%2\n",
    "        p_not = (p+1)%2\n",
    "        B_vp = B_v[p]\n",
    "        B_s.set()\n",
    "        B_vp.set()\n",
    "        for n in range(trav):\n",
    "            collect_samples(G, \"A\", p, p_not, M_r, B_vp, B_s)\n",
    "        W[p].extend([(1+t)/2]*B_vp.count)\n",
    "        W[2].extend([(1+t)/2]*B_s.count)\n",
    "        M_r[p].train(B_vp, W[p], train_v, batch_v)\n",
    "    M_s.train(B_s, W[2], train_s, batch_s, True)\n"
   ]
  },
  {
   "cell_type": "code",
   "execution_count": null,
   "metadata": {},
   "outputs": [],
   "source": []
  },
  {
   "cell_type": "code",
   "execution_count": null,
   "metadata": {
    "scrolled": false
   },
   "outputs": [],
   "source": [
    "\n"
   ]
  },
  {
   "cell_type": "code",
   "execution_count": null,
   "metadata": {},
   "outputs": [],
   "source": []
  },
  {
   "cell_type": "code",
   "execution_count": null,
   "metadata": {},
   "outputs": [],
   "source": []
  },
  {
   "cell_type": "code",
   "execution_count": null,
   "metadata": {},
   "outputs": [],
   "source": []
  },
  {
   "cell_type": "code",
   "execution_count": null,
   "metadata": {},
   "outputs": [],
   "source": []
  },
  {
   "cell_type": "code",
   "execution_count": null,
   "metadata": {},
   "outputs": [],
   "source": []
  },
  {
   "cell_type": "code",
   "execution_count": null,
   "metadata": {},
   "outputs": [],
   "source": []
  },
  {
   "cell_type": "code",
   "execution_count": null,
   "metadata": {},
   "outputs": [],
   "source": []
  },
  {
   "cell_type": "code",
   "execution_count": null,
   "metadata": {},
   "outputs": [],
   "source": []
  }
 ],
 "metadata": {
  "kernelspec": {
   "display_name": "research",
   "language": "python",
   "name": "research"
  },
  "language_info": {
   "codemirror_mode": {
    "name": "ipython",
    "version": 3
   },
   "file_extension": ".py",
   "mimetype": "text/x-python",
   "name": "python",
   "nbconvert_exporter": "python",
   "pygments_lexer": "ipython3",
   "version": "3.6.5"
  }
 },
 "nbformat": 4,
 "nbformat_minor": 2
}
