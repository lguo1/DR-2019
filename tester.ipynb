{
 "cells": [
  {
   "cell_type": "code",
   "execution_count": 3,
   "metadata": {},
   "outputs": [],
   "source": [
    "import numpy as np\n",
    "\n",
    "class node:\n",
    "    def __init__(self):\n",
    "        self.hist = np.zeros(3)\n",
    "        self.prog = np.zeros(3)\n",
    "        self.turns = -1\n",
    "\n",
    "    def deal(self):\n",
    "        self.cards = np.random.choice(3,(2,1))\n",
    "        self.turns += 1\n",
    "        return self\n",
    "\n",
    "    def place(self, action):\n",
    "        try:\n",
    "            self.hist[self.turns] = action\n",
    "            self.prog[self.turns] = 1\n",
    "            self.turns += 1\n",
    "        except:\n",
    "            print(self.prog)\n",
    "            print(self.hist)\n",
    "            print(action)\n",
    "            return None\n",
    "        return self\n",
    "\n",
    "    def A(self):\n",
    "        if self.turns == 0:\n",
    "            return [1,2]\n",
    "        elif self.turns == 1:\n",
    "            if self.hist[0] == 1:\n",
    "                return [1,2]\n",
    "            else:\n",
    "                return [0,2]\n",
    "        else:\n",
    "            return [0,2]\n",
    "\n",
    "    def P(self):\n",
    "        if self.turns == -1:\n",
    "            return -1\n",
    "        else:\n",
    "            return (self.turns+1)%2\n",
    "\n",
    "    def is_terminal(self):\n",
    "        if self.prog[2]:\n",
    "            return True\n",
    "        elif not self.prog[1]:\n",
    "            return False\n",
    "        elif self.hist[1] != 2:\n",
    "            return True\n",
    "        elif self.hist[0] == 2:\n",
    "            return True\n",
    "        else:\n",
    "            return False\n",
    "\n",
    "    def util(self, p):\n",
    "        thd = self.hist[2]\n",
    "        if thd == 0:\n",
    "            return [0,3][p]\n",
    "        elif thd == 2:\n",
    "            return (p == np.argmax(self.cards))*4\n",
    "        else:\n",
    "            sec = self.hist[1]\n",
    "            if sec == 1:\n",
    "                return (p == np.argmax(self.cards))*2\n",
    "            elif sec == 2:\n",
    "                return (p == np.argmax(self.cards))*4\n",
    "            else:\n",
    "                return [3,0][p]\n",
    "\n",
    "    def I(self, p):\n",
    "        return [self.cards[p], self.hist, self.prog]\n"
   ]
  },
  {
   "cell_type": "code",
   "execution_count": 4,
   "metadata": {},
   "outputs": [
    {
     "data": {
      "text/plain": [
       "True"
      ]
     },
     "execution_count": 4,
     "metadata": {},
     "output_type": "execute_result"
    }
   ],
   "source": [
    "h = node()\n",
    "h.hist=[1,2,0]\n",
    "h.prog=[1,1,1]\n",
    "h.is_terminal()"
   ]
  },
  {
   "cell_type": "code",
   "execution_count": null,
   "metadata": {},
   "outputs": [],
   "source": []
  }
 ],
 "metadata": {
  "kernelspec": {
   "display_name": "research",
   "language": "python",
   "name": "research"
  },
  "language_info": {
   "codemirror_mode": {
    "name": "ipython",
    "version": 3
   },
   "file_extension": ".py",
   "mimetype": "text/x-python",
   "name": "python",
   "nbconvert_exporter": "python",
   "pygments_lexer": "ipython3",
   "version": "3.6.5"
  }
 },
 "nbformat": 4,
 "nbformat_minor": 2
}
