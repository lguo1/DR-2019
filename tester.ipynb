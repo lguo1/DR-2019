{
 "cells": [
  {
   "cell_type": "code",
   "execution_count": null,
   "metadata": {},
   "outputs": [],
   "source": []
  },
  {
   "cell_type": "code",
   "execution_count": 1,
   "metadata": {},
   "outputs": [
    {
     "name": "stdout",
     "output_type": "stream",
     "text": [
      "p0: 0000 mse: 0.410\n",
      "p0: 1000 mse: 0.189\n",
      "state: 0000 mse: 0.789\n",
      "state: 1000 mse: 0.000\n",
      "p1: 0000 mse: 0.674\n",
      "p1: 1000 mse: 0.251\n",
      "value for p0 <objects.buffer object at 0x7efcec25e8d0>\n",
      "value for p1 <objects.buffer object at 0x7efc9af016a0>\n",
      "W for p0 [0.5, 0.5, 0.5]\n",
      "W for p1 [1.0, 1.0]\n"
     ]
    },
    {
     "ename": "NameError",
     "evalue": "name 'errs' is not defined",
     "output_type": "error",
     "traceback": [
      "\u001b[0;31m---------------------------------------------------------------------------\u001b[0m",
      "\u001b[0;31mNameError\u001b[0m                                 Traceback (most recent call last)",
      "\u001b[0;32m<ipython-input-1-6f04263564d7>\u001b[0m in \u001b[0;36m<module>\u001b[0;34m()\u001b[0m\n\u001b[1;32m     34\u001b[0m     \u001b[0mprint\u001b[0m\u001b[0;34m(\u001b[0m\u001b[0merrs0\u001b[0m\u001b[0;34m,\u001b[0m \u001b[0merrs\u001b[0m\u001b[0;34m)\u001b[0m\u001b[0;34m\u001b[0m\u001b[0;34m\u001b[0m\u001b[0m\n\u001b[1;32m     35\u001b[0m \u001b[0;34m\u001b[0m\u001b[0m\n\u001b[0;32m---> 36\u001b[0;31m \u001b[0mcheck_main\u001b[0m\u001b[0;34m(\u001b[0m\u001b[0;36m2\u001b[0m\u001b[0;34m,\u001b[0m \u001b[0;36m2\u001b[0m\u001b[0;34m)\u001b[0m\u001b[0;34m\u001b[0m\u001b[0;34m\u001b[0m\u001b[0m\n\u001b[0m",
      "\u001b[0;32m<ipython-input-1-6f04263564d7>\u001b[0m in \u001b[0;36mcheck_main\u001b[0;34m(iter, trav, train_v, batch_v, train_s, batch_s)\u001b[0m\n\u001b[1;32m     32\u001b[0m     \u001b[0mprint\u001b[0m\u001b[0;34m(\u001b[0m\u001b[0;34m\"W for p0\"\u001b[0m\u001b[0;34m,\u001b[0m \u001b[0mW\u001b[0m\u001b[0;34m[\u001b[0m\u001b[0;36m0\u001b[0m\u001b[0;34m]\u001b[0m\u001b[0;34m)\u001b[0m\u001b[0;34m\u001b[0m\u001b[0;34m\u001b[0m\u001b[0m\n\u001b[1;32m     33\u001b[0m     \u001b[0mprint\u001b[0m\u001b[0;34m(\u001b[0m\u001b[0;34m\"W for p1\"\u001b[0m\u001b[0;34m,\u001b[0m \u001b[0mW\u001b[0m\u001b[0;34m[\u001b[0m\u001b[0;36m1\u001b[0m\u001b[0;34m]\u001b[0m\u001b[0;34m)\u001b[0m\u001b[0;34m\u001b[0m\u001b[0;34m\u001b[0m\u001b[0m\n\u001b[0;32m---> 34\u001b[0;31m     \u001b[0mprint\u001b[0m\u001b[0;34m(\u001b[0m\u001b[0merrs0\u001b[0m\u001b[0;34m,\u001b[0m \u001b[0merrs\u001b[0m\u001b[0;34m)\u001b[0m\u001b[0;34m\u001b[0m\u001b[0;34m\u001b[0m\u001b[0m\n\u001b[0m\u001b[1;32m     35\u001b[0m \u001b[0;34m\u001b[0m\u001b[0m\n\u001b[1;32m     36\u001b[0m \u001b[0mcheck_main\u001b[0m\u001b[0;34m(\u001b[0m\u001b[0;36m2\u001b[0m\u001b[0;34m,\u001b[0m \u001b[0;36m2\u001b[0m\u001b[0;34m)\u001b[0m\u001b[0;34m\u001b[0m\u001b[0;34m\u001b[0m\u001b[0m\n",
      "\u001b[0;31mNameError\u001b[0m: name 'errs' is not defined"
     ]
    }
   ],
   "source": [
    "from deep_cfr import *\n",
    "\n",
    "def check_main(iter, trav, train_v=2000, batch_v=1000, train_s=2000, batch_s=1000):\n",
    "    tf.set_random_seed(1)\n",
    "    np.random.seed(1)\n",
    "    G = game()\n",
    "    errs0 = []\n",
    "    errs1 = []\n",
    "    B_v = (buffer(), buffer())\n",
    "    B_s = buffer()\n",
    "    W = [[],[],[]]\n",
    "    M_r = (model('p0', True), model('p1', True))\n",
    "    M_s = model('state')\n",
    "    for t in range(iter):\n",
    "        p = t%2\n",
    "        p_not = (p+1)%2\n",
    "        B_vp = B_v[p]\n",
    "        B_s.set()\n",
    "        B_vp.set()\n",
    "        for n in range(trav):\n",
    "            collect_samples(G, \"A\", p, p_not, M_r, B_vp, B_s)\n",
    "        W[p].extend([(1+t)/2]*B_vp.count)\n",
    "        W[2].extend([(1+t)/2]*B_s.count)\n",
    "        M_r[p].train(B_vp, W[p], train_v, batch_v)\n",
    "        if t % 100 == 0:\n",
    "                M_s.train(B_s, W[2], train_s, batch_s, True)\n",
    "                err0, err1 = measure_performance(M_s)\n",
    "                errs0.append(err0)\n",
    "                errs1.append(err1)\n",
    "    print(\"value for p0\", B_v[0])\n",
    "    print(\"value for p1\", B_v[1])\n",
    "    print(\"W for p0\", W[0])\n",
    "    print(\"W for p1\", W[1])\n",
    "    print(errs0, errs1)\n",
    "    \n",
    "check_main(2, 2)"
   ]
  },
  {
   "cell_type": "code",
   "execution_count": 3,
   "metadata": {},
   "outputs": [
    {
     "name": "stdout",
     "output_type": "stream",
     "text": [
      "<class 'int'>\n",
      "<class 'int'>\n",
      "<class 'int'>\n",
      "<class 'int'>\n",
      "<class 'int'>\n",
      "<class 'int'>\n",
      "<class 'int'>\n",
      "<class 'int'>\n",
      "<class 'int'>\n",
      "<class 'int'>\n"
     ]
    }
   ],
   "source": []
  },
  {
   "cell_type": "code",
   "execution_count": null,
   "metadata": {
    "scrolled": false
   },
   "outputs": [],
   "source": [
    "\n"
   ]
  },
  {
   "cell_type": "code",
   "execution_count": null,
   "metadata": {},
   "outputs": [],
   "source": []
  },
  {
   "cell_type": "code",
   "execution_count": null,
   "metadata": {},
   "outputs": [],
   "source": []
  },
  {
   "cell_type": "code",
   "execution_count": null,
   "metadata": {},
   "outputs": [],
   "source": []
  },
  {
   "cell_type": "code",
   "execution_count": null,
   "metadata": {},
   "outputs": [],
   "source": []
  },
  {
   "cell_type": "code",
   "execution_count": null,
   "metadata": {},
   "outputs": [],
   "source": []
  },
  {
   "cell_type": "code",
   "execution_count": null,
   "metadata": {},
   "outputs": [],
   "source": []
  },
  {
   "cell_type": "code",
   "execution_count": null,
   "metadata": {},
   "outputs": [],
   "source": []
  },
  {
   "cell_type": "code",
   "execution_count": null,
   "metadata": {},
   "outputs": [],
   "source": []
  }
 ],
 "metadata": {
  "kernelspec": {
   "display_name": "research",
   "language": "python",
   "name": "research"
  },
  "language_info": {
   "codemirror_mode": {
    "name": "ipython",
    "version": 3
   },
   "file_extension": ".py",
   "mimetype": "text/x-python",
   "name": "python",
   "nbconvert_exporter": "python",
   "pygments_lexer": "ipython3",
   "version": "3.6.5"
  }
 },
 "nbformat": 4,
 "nbformat_minor": 2
}
